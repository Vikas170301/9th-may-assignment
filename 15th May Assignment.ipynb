{
 "cells": [
  {
   "cell_type": "markdown",
   "id": "76b842a0-41b8-4e89-b113-030589e84a9a",
   "metadata": {},
   "source": [
    "Q1. How do you comment code in Python? What are the different types of comments?"
   ]
  },
  {
   "cell_type": "markdown",
   "id": "6921c6c3-297f-4f33-b120-839ed4877e68",
   "metadata": {},
   "source": [
    "Types of comment: single-line, multi-line, and docstring comments"
   ]
  },
  {
   "cell_type": "markdown",
   "id": "041043df-d68b-45dd-8639-346519625f0e",
   "metadata": {},
   "source": [
    "Q2. What are variables in Python? How do you declare and assign values to variables?"
   ]
  },
  {
   "cell_type": "markdown",
   "id": "ecc8ff76-6923-4840-9d73-6ebc67a49b46",
   "metadata": {},
   "source": [
    "In Python, you can create a variable by assigning a value to it using the equal sign (=). Below are the some examples:"
   ]
  },
  {
   "cell_type": "code",
   "execution_count": 5,
   "id": "9cb49029-9c49-4045-9289-612e014bbc85",
   "metadata": {},
   "outputs": [],
   "source": [
    "#Creating Variable\n",
    "\n",
    "A = \"Vikas\"\n",
    "B = 25\n",
    "C = 2.526"
   ]
  },
  {
   "cell_type": "code",
   "execution_count": 4,
   "id": "3358a46b-c2d7-43a4-87ae-7979249017fe",
   "metadata": {},
   "outputs": [
    {
     "name": "stdout",
     "output_type": "stream",
     "text": [
      "Vikas 25 2.526\n"
     ]
    }
   ],
   "source": [
    "#Printing variable\n",
    "\n",
    "print(A,B,C)"
   ]
  },
  {
   "cell_type": "code",
   "execution_count": 6,
   "id": "d61bb0ff-ba96-42df-b8fb-73e14e919bc6",
   "metadata": {},
   "outputs": [
    {
     "name": "stdout",
     "output_type": "stream",
     "text": [
      "Name: Vikas\n",
      "Age: 25\n",
      "Number: 2.526\n"
     ]
    }
   ],
   "source": [
    "#printing Variable \n",
    "\n",
    "print(\"Name:\",A)\n",
    "print(\"Age:\",B)\n",
    "print(\"Number:\", C)"
   ]
  },
  {
   "cell_type": "markdown",
   "id": "67e18bc0-f3e5-4950-96a2-fea55470babe",
   "metadata": {},
   "source": [
    "Q3. How do you convert one data type to another in Python?"
   ]
  },
  {
   "cell_type": "code",
   "execution_count": 7,
   "id": "b51624db-5930-4096-9903-14cadb4383fd",
   "metadata": {},
   "outputs": [],
   "source": [
    "A = \"123456\""
   ]
  },
  {
   "cell_type": "code",
   "execution_count": 9,
   "id": "d96bde8f-09ce-4f5b-9f48-73d9f3b2fe3d",
   "metadata": {},
   "outputs": [
    {
     "name": "stdout",
     "output_type": "stream",
     "text": [
      "123456\n"
     ]
    }
   ],
   "source": [
    "B = int(A)\n",
    "print(B)"
   ]
  },
  {
   "cell_type": "code",
   "execution_count": 12,
   "id": "797884a9-07b7-4456-8114-e8be0b612712",
   "metadata": {},
   "outputs": [],
   "source": [
    "C = \"12.5626\""
   ]
  },
  {
   "cell_type": "code",
   "execution_count": 13,
   "id": "28bcdc7b-0158-4eb9-bc95-9c67c8b65862",
   "metadata": {},
   "outputs": [
    {
     "name": "stdout",
     "output_type": "stream",
     "text": [
      "12.5626\n"
     ]
    }
   ],
   "source": [
    "D = float(C)\n",
    "print(D)"
   ]
  },
  {
   "cell_type": "markdown",
   "id": "65435096-7136-4423-89ff-126afc85869c",
   "metadata": {},
   "source": [
    "Q4. How do you write and execute a Python script from the command line?"
   ]
  },
  {
   "cell_type": "markdown",
   "id": "504c4e8d-41d4-486f-846c-95a5bdd6a34d",
   "metadata": {},
   "source": [
    "Use a text editor (like Notepad on Windows, TextEdit on macOS, or any code editor like VSCode, Atom, Sublime Text, etc.) to write your Python script.\n",
    "\n",
    "Write your Python code in the text editor and save the file with a \"py\" extension\n",
    "\n",
    "Open the command line or terminal on your operating system\n",
    "\n",
    "Use the cd command to navigate to the directory where your Python script is located.\n",
    "\n",
    "Once you are in the correct directory, run the script using the python command"
   ]
  },
  {
   "cell_type": "code",
   "execution_count": null,
   "id": "33c9164c-92d6-4de1-932c-f05a50237cc2",
   "metadata": {},
   "outputs": [],
   "source": []
  },
  {
   "cell_type": "markdown",
   "id": "900c6427-4b3e-4861-8ef0-21d4674e8661",
   "metadata": {},
   "source": [
    "Q5. Given a list my_list = [1, 2, 3, 4, 5], write the code to slice the list and obtain the sub-list [2, 3]."
   ]
  },
  {
   "cell_type": "code",
   "execution_count": 1,
   "id": "8af768ff-1f09-4cdb-b539-0079e0e0562c",
   "metadata": {},
   "outputs": [],
   "source": [
    "my_list = [1,2,3,4,5]"
   ]
  },
  {
   "cell_type": "code",
   "execution_count": 2,
   "id": "dce6f5aa-9ee4-48e0-b46a-8ad76343ffc6",
   "metadata": {},
   "outputs": [
    {
     "data": {
      "text/plain": [
       "[2, 3]"
      ]
     },
     "execution_count": 2,
     "metadata": {},
     "output_type": "execute_result"
    }
   ],
   "source": [
    "my_list[1:3]"
   ]
  },
  {
   "cell_type": "markdown",
   "id": "b944c132-84c7-4c0a-a40f-7c56cb8d6c1f",
   "metadata": {},
   "source": [
    "Q6. What is a complex number in mathematics, and how is it represented in Python?"
   ]
  },
  {
   "cell_type": "markdown",
   "id": "5f54b478-6263-4d6c-9763-2da4816c413b",
   "metadata": {},
   "source": [
    "In mathematics, a complex number is a number that can be expressed in the form \n",
    "a+bj, where a and b are real numbers, and j is the imaginary"
   ]
  },
  {
   "cell_type": "code",
   "execution_count": 19,
   "id": "10baf68c-d256-42f4-a470-8d001ae62b9f",
   "metadata": {},
   "outputs": [],
   "source": [
    "A = 5+4j"
   ]
  },
  {
   "cell_type": "code",
   "execution_count": 15,
   "id": "faf74df2-9c26-4604-a5a0-c5b5d6b89557",
   "metadata": {},
   "outputs": [
    {
     "data": {
      "text/plain": [
       "5.0"
      ]
     },
     "execution_count": 15,
     "metadata": {},
     "output_type": "execute_result"
    }
   ],
   "source": [
    "A.real"
   ]
  },
  {
   "cell_type": "code",
   "execution_count": 16,
   "id": "cb02dbb2-80d7-473d-a8dc-17f865cd5e32",
   "metadata": {},
   "outputs": [
    {
     "data": {
      "text/plain": [
       "4.0"
      ]
     },
     "execution_count": 16,
     "metadata": {},
     "output_type": "execute_result"
    }
   ],
   "source": [
    "A.imag"
   ]
  },
  {
   "cell_type": "code",
   "execution_count": 17,
   "id": "f5e03612-2665-47e2-80fb-75de613f5cd1",
   "metadata": {},
   "outputs": [
    {
     "data": {
      "text/plain": [
       "<function complex.conjugate()>"
      ]
     },
     "execution_count": 17,
     "metadata": {},
     "output_type": "execute_result"
    }
   ],
   "source": [
    "A.conjugate"
   ]
  },
  {
   "cell_type": "markdown",
   "id": "a496b8d0-1166-4cc3-9c52-053accc7881a",
   "metadata": {},
   "source": [
    "Q7. What is the correct way to declare a variable named age and assign the value 25 to it?"
   ]
  },
  {
   "cell_type": "code",
   "execution_count": 20,
   "id": "fbbf0074-3fdd-45b2-8e93-416b49940ef9",
   "metadata": {},
   "outputs": [],
   "source": [
    "Age = 25"
   ]
  },
  {
   "cell_type": "code",
   "execution_count": 21,
   "id": "d5d6ac0a-c002-4500-98fd-2dffe0777198",
   "metadata": {},
   "outputs": [
    {
     "data": {
      "text/plain": [
       "25"
      ]
     },
     "execution_count": 21,
     "metadata": {},
     "output_type": "execute_result"
    }
   ],
   "source": [
    "Age"
   ]
  },
  {
   "cell_type": "markdown",
   "id": "1de64a59-69b9-4867-8c74-7525a9942eff",
   "metadata": {},
   "source": [
    "Q8. Declare a variable named price and assign the value 9.99 to it. What data type does this variable\n",
    "belong to?"
   ]
  },
  {
   "cell_type": "code",
   "execution_count": 22,
   "id": "2e3e6dbb-eadc-4cae-ba0a-74a4611485d4",
   "metadata": {},
   "outputs": [],
   "source": [
    "price = 9.99"
   ]
  },
  {
   "cell_type": "code",
   "execution_count": 23,
   "id": "2e95b27e-5cd7-4e14-aa6c-6e9a16ee882e",
   "metadata": {},
   "outputs": [
    {
     "name": "stdout",
     "output_type": "stream",
     "text": [
      "<class 'float'>\n"
     ]
    }
   ],
   "source": [
    "print(type(price))"
   ]
  },
  {
   "cell_type": "markdown",
   "id": "7069e941-d993-4bb5-a53c-385bc1ff0645",
   "metadata": {},
   "source": [
    "Q9. Create a variable named name and assign your full name to it as a string. How would you print the\n",
    "value of this variable?"
   ]
  },
  {
   "cell_type": "code",
   "execution_count": 24,
   "id": "33c96403-5da6-45a3-8a54-06323ba94a86",
   "metadata": {},
   "outputs": [],
   "source": [
    "name = \"Vikas Gupta\""
   ]
  },
  {
   "cell_type": "code",
   "execution_count": 25,
   "id": "8bd8553c-70d5-45ba-a8d2-cae226414b2c",
   "metadata": {},
   "outputs": [
    {
     "name": "stdout",
     "output_type": "stream",
     "text": [
      "Vikas Gupta\n"
     ]
    }
   ],
   "source": [
    "print(name)"
   ]
  },
  {
   "cell_type": "code",
   "execution_count": 26,
   "id": "907812c0-38ec-4efa-96d8-a163515a2850",
   "metadata": {},
   "outputs": [
    {
     "name": "stdout",
     "output_type": "stream",
     "text": [
      "<class 'str'>\n"
     ]
    }
   ],
   "source": [
    "print(type(name))"
   ]
  },
  {
   "cell_type": "markdown",
   "id": "26fe2331-98ef-4fc6-bf90-0cb22922e7fe",
   "metadata": {},
   "source": [
    "Q10. Given the string \"Hello, World!\", extract the substring \"World\"."
   ]
  },
  {
   "cell_type": "code",
   "execution_count": 3,
   "id": "568c38ab-14a1-4f65-a5e7-cf8fa060423c",
   "metadata": {},
   "outputs": [],
   "source": [
    "a = \"Hello, World!\""
   ]
  },
  {
   "cell_type": "code",
   "execution_count": 4,
   "id": "acc54bc4-bad5-45c2-abb2-c8c2ca9d3a97",
   "metadata": {},
   "outputs": [
    {
     "data": {
      "text/plain": [
       "'World'"
      ]
     },
     "execution_count": 4,
     "metadata": {},
     "output_type": "execute_result"
    }
   ],
   "source": [
    "a[7:12]"
   ]
  },
  {
   "cell_type": "markdown",
   "id": "506a5357-eaf7-4002-8c4f-0700d68bfaab",
   "metadata": {},
   "source": [
    "Q11. Create a variable named \"is_student\" and assign it a boolean value indicating whether you are\n",
    "currently a student or not."
   ]
  },
  {
   "cell_type": "code",
   "execution_count": 27,
   "id": "6933c4db-fc02-415d-a555-00b1e2997e99",
   "metadata": {},
   "outputs": [],
   "source": [
    "is_student = True"
   ]
  },
  {
   "cell_type": "code",
   "execution_count": 29,
   "id": "f5437ce8-8e0f-4b96-a704-67032dbb261d",
   "metadata": {},
   "outputs": [
    {
     "name": "stdout",
     "output_type": "stream",
     "text": [
      "I Am a Student : True\n"
     ]
    }
   ],
   "source": [
    "print(\"I Am a Student :\", is_student)"
   ]
  },
  {
   "cell_type": "code",
   "execution_count": null,
   "id": "fef463ad-ef92-4272-925c-7b1662ad637f",
   "metadata": {},
   "outputs": [],
   "source": []
  }
 ],
 "metadata": {
  "kernelspec": {
   "display_name": "Python 3 (ipykernel)",
   "language": "python",
   "name": "python3"
  },
  "language_info": {
   "codemirror_mode": {
    "name": "ipython",
    "version": 3
   },
   "file_extension": ".py",
   "mimetype": "text/x-python",
   "name": "python",
   "nbconvert_exporter": "python",
   "pygments_lexer": "ipython3",
   "version": "3.10.8"
  }
 },
 "nbformat": 4,
 "nbformat_minor": 5
}
