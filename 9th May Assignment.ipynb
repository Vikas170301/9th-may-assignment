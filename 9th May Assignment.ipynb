{
 "cells": [
  {
   "cell_type": "markdown",
   "id": "5d2bdb3d-51c0-4fc1-9f3a-3496d17d358a",
   "metadata": {},
   "source": [
    "Q1. Create one variable containing following type of data:"
   ]
  },
  {
   "cell_type": "markdown",
   "id": "eb36df12-abaf-45c1-af64-0b7d6e6352a0",
   "metadata": {},
   "source": [
    "(i) string\n",
    "(ii) list\n",
    "(iii) float\n",
    "(iv) tuple"
   ]
  },
  {
   "cell_type": "code",
   "execution_count": 1,
   "id": "1b61505b-1baa-4bcb-afeb-c544da1a3c00",
   "metadata": {},
   "outputs": [
    {
     "data": {
      "text/plain": [
       "('Vikas', 'Vikas')"
      ]
     },
     "execution_count": 1,
     "metadata": {},
     "output_type": "execute_result"
    }
   ],
   "source": [
    "'Vikas',\"Vikas\""
   ]
  },
  {
   "cell_type": "code",
   "execution_count": 2,
   "id": "447a736f-e62a-4e20-a235-3e37e7d5db6c",
   "metadata": {},
   "outputs": [],
   "source": [
    "a = [ 1,2,3,'vikas',45.65,True,5+4j]"
   ]
  },
  {
   "cell_type": "code",
   "execution_count": 3,
   "id": "c8df654b-1c22-4a37-8577-20af5a07aece",
   "metadata": {},
   "outputs": [
    {
     "data": {
      "text/plain": [
       "[1, 2, 3, 'vikas', 45.65, True, (5+4j)]"
      ]
     },
     "execution_count": 3,
     "metadata": {},
     "output_type": "execute_result"
    }
   ],
   "source": [
    "a"
   ]
  },
  {
   "cell_type": "code",
   "execution_count": 4,
   "id": "47bb6367-d353-4774-8bc1-c57de695a180",
   "metadata": {},
   "outputs": [
    {
     "name": "stdout",
     "output_type": "stream",
     "text": [
      "<class 'list'>\n"
     ]
    }
   ],
   "source": [
    "print(type(a))"
   ]
  },
  {
   "cell_type": "code",
   "execution_count": 5,
   "id": "75d6807f-d1ef-4b6b-8e86-3c64b0469af7",
   "metadata": {},
   "outputs": [],
   "source": [
    "c = 45.2556"
   ]
  },
  {
   "cell_type": "code",
   "execution_count": 6,
   "id": "2a010519-e361-498a-a00f-0d5a29b10c45",
   "metadata": {},
   "outputs": [
    {
     "data": {
      "text/plain": [
       "45.2556"
      ]
     },
     "execution_count": 6,
     "metadata": {},
     "output_type": "execute_result"
    }
   ],
   "source": [
    "c"
   ]
  },
  {
   "cell_type": "code",
   "execution_count": 7,
   "id": "6c9a981d-c59a-4f46-a629-8cc199be35a5",
   "metadata": {},
   "outputs": [
    {
     "name": "stdout",
     "output_type": "stream",
     "text": [
      "<class 'float'>\n"
     ]
    }
   ],
   "source": [
    "print(type(c))"
   ]
  },
  {
   "cell_type": "code",
   "execution_count": 8,
   "id": "f7035ef0-adf8-42d8-9f3a-dfa7f85767b1",
   "metadata": {},
   "outputs": [],
   "source": [
    "d = (\"vikas\",4+5j,4,5,6,True)"
   ]
  },
  {
   "cell_type": "code",
   "execution_count": 9,
   "id": "c3e5682d-9f3d-4503-a1fd-f7ce07fbcdf2",
   "metadata": {},
   "outputs": [
    {
     "name": "stdout",
     "output_type": "stream",
     "text": [
      "<class 'tuple'>\n"
     ]
    }
   ],
   "source": [
    "print(type(d))"
   ]
  },
  {
   "cell_type": "markdown",
   "id": "d1102e28-f083-41f4-afe9-915e5e7e7a60",
   "metadata": {},
   "source": [
    "Q2. Given are some following variables containing data:"
   ]
  },
  {
   "cell_type": "markdown",
   "id": "81a0cbab-4f25-4667-a439-6f5a68ab3cac",
   "metadata": {},
   "source": [
    "(i) var1 = ‘ ‘\n",
    "(ii) var2 = ‘[ DS , ML , Python]’\n",
    "(iii) var3 = [ ‘DS’ , ’ML’ , ‘Python’ ]\n",
    "(iv) var4 = 1."
   ]
  },
  {
   "cell_type": "markdown",
   "id": "8ab24d91-e7bc-40ed-808f-304d1f471c80",
   "metadata": {},
   "source": [
    "1. String\n",
    "2. String\n",
    "3. List\n",
    "4. Int"
   ]
  },
  {
   "cell_type": "markdown",
   "id": "1a7aead0-1a34-4242-89dd-763e5388c811",
   "metadata": {},
   "source": [
    "Q3. Explain the use of the following operators using an example:"
   ]
  },
  {
   "cell_type": "markdown",
   "id": "a75db39b-ae2a-4ef4-82ac-235db5ecea9f",
   "metadata": {},
   "source": [
    "(i) /\n",
    "(ii) %\n",
    "(iii) //\n",
    "(iv) **"
   ]
  },
  {
   "cell_type": "markdown",
   "id": "41de88f0-4873-48c6-82bc-b1a6a2c22277",
   "metadata": {},
   "source": [
    "/ Division Operator : Divides the number "
   ]
  },
  {
   "cell_type": "code",
   "execution_count": 2,
   "id": "2c2de036-60b0-4fb4-ac2f-7e72ff9320cb",
   "metadata": {},
   "outputs": [
    {
     "data": {
      "text/plain": [
       "2.0"
      ]
     },
     "execution_count": 2,
     "metadata": {},
     "output_type": "execute_result"
    }
   ],
   "source": [
    "10/5"
   ]
  },
  {
   "cell_type": "markdown",
   "id": "16fa143a-6352-4762-920b-87b43a67fec0",
   "metadata": {},
   "source": [
    "% Modules operator : Returns the remainder of dividing two numbers"
   ]
  },
  {
   "cell_type": "code",
   "execution_count": 3,
   "id": "6906032b-f05d-4ee2-a48c-ad11a0680163",
   "metadata": {},
   "outputs": [
    {
     "data": {
      "text/plain": [
       "1"
      ]
     },
     "execution_count": 3,
     "metadata": {},
     "output_type": "execute_result"
    }
   ],
   "source": [
    "1%4"
   ]
  },
  {
   "cell_type": "markdown",
   "id": "c42154fe-6886-4913-87be-4cacb80fdf6d",
   "metadata": {},
   "source": [
    "// Division floor : "
   ]
  },
  {
   "cell_type": "code",
   "execution_count": 4,
   "id": "6cd3140d-29c1-4444-a565-6cc66999014d",
   "metadata": {},
   "outputs": [
    {
     "data": {
      "text/plain": [
       "1"
      ]
     },
     "execution_count": 4,
     "metadata": {},
     "output_type": "execute_result"
    }
   ],
   "source": [
    "5//4"
   ]
  },
  {
   "cell_type": "markdown",
   "id": "b18e54fc-cd0f-4b3a-9193-a6d8265370ee",
   "metadata": {},
   "source": [
    "** power operator"
   ]
  },
  {
   "cell_type": "code",
   "execution_count": 6,
   "id": "74a054ba-8598-414a-ab7c-0c0ca331e54d",
   "metadata": {},
   "outputs": [
    {
     "data": {
      "text/plain": [
       "125"
      ]
     },
     "execution_count": 6,
     "metadata": {},
     "output_type": "execute_result"
    }
   ],
   "source": [
    "5**3"
   ]
  },
  {
   "cell_type": "markdown",
   "id": "eb2968c5-6d4d-486d-9da0-8046dc76d68d",
   "metadata": {},
   "source": [
    "Q4. Create a list of length 10 of your choice containing multiple types of data. Using for loop print the\n",
    "element and its data type."
   ]
  },
  {
   "cell_type": "code",
   "execution_count": 15,
   "id": "44bf2eb8-9f8d-4a75-bd13-a27c26137199",
   "metadata": {},
   "outputs": [],
   "source": [
    "f = [2,5,6,\"vikas\",True,5.25,5+4j,[\"vikas\",24],(25,\"vikas\"),45]"
   ]
  },
  {
   "cell_type": "code",
   "execution_count": 16,
   "id": "42c60859-704c-4c1d-a139-4682d40599b9",
   "metadata": {},
   "outputs": [
    {
     "name": "stdout",
     "output_type": "stream",
     "text": [
      "<class 'int'>\n",
      "<class 'int'>\n",
      "<class 'int'>\n",
      "<class 'str'>\n",
      "<class 'bool'>\n",
      "<class 'float'>\n",
      "<class 'complex'>\n",
      "<class 'list'>\n",
      "<class 'tuple'>\n",
      "<class 'int'>\n"
     ]
    }
   ],
   "source": [
    "for i in f:\n",
    "    print(type(i))"
   ]
  },
  {
   "cell_type": "markdown",
   "id": "89f4ed68-f008-4663-ab40-f17027379a50",
   "metadata": {},
   "source": [
    "Q5. Using a while loop, verify if the number A is purely divisible by number B and if so then how many\n",
    "times it can be divisible."
   ]
  },
  {
   "cell_type": "code",
   "execution_count": 10,
   "id": "fc3fef79-67a4-42b5-91df-8ca6f51a9c7f",
   "metadata": {},
   "outputs": [],
   "source": [
    "a,b,c = 36,2,0"
   ]
  },
  {
   "cell_type": "code",
   "execution_count": 11,
   "id": "3398de99-b5a7-4df7-991b-766d072c3d76",
   "metadata": {},
   "outputs": [
    {
     "name": "stdout",
     "output_type": "stream",
     "text": [
      "2\n"
     ]
    }
   ],
   "source": [
    "while a % b == 0:\n",
    "    a = a // b\n",
    "    c =c + 1\n",
    "print(c)"
   ]
  },
  {
   "cell_type": "markdown",
   "id": "c56688aa-ef4b-46e9-bf88-04626b8a33cf",
   "metadata": {},
   "source": [
    "Q6. Create a list containing 25 int type data. Using for loop and if-else condition print if the element is\n",
    "divisible by 3 or not."
   ]
  },
  {
   "cell_type": "code",
   "execution_count": 12,
   "id": "fa673def-01b7-40bb-81c2-b5f5380dccc7",
   "metadata": {},
   "outputs": [],
   "source": [
    "e = [ 1,2,3,4,5,6,7,8,9,10,11,12,14,15,16,17,18,19,20,21,22,23,24,25]"
   ]
  },
  {
   "cell_type": "code",
   "execution_count": 13,
   "id": "6e3ed478-df22-4c2b-957a-6fa9bf0c8d2a",
   "metadata": {},
   "outputs": [],
   "source": [
    "e1 = []\n",
    "for i in e :\n",
    "    if i%3==0 :\n",
    "        e1.append(i)"
   ]
  },
  {
   "cell_type": "code",
   "execution_count": 14,
   "id": "5b8df724-163d-4a89-8901-edd3a0624fc5",
   "metadata": {},
   "outputs": [
    {
     "data": {
      "text/plain": [
       "[3, 6, 9, 12, 15, 18, 21, 24]"
      ]
     },
     "execution_count": 14,
     "metadata": {},
     "output_type": "execute_result"
    }
   ],
   "source": [
    "e1"
   ]
  },
  {
   "cell_type": "markdown",
   "id": "2e606d2b-08f5-49bd-aed6-c42d9fe2133e",
   "metadata": {},
   "source": [
    "Q7. What do you understand about mutable and immutable data types? Give examples for both showing\n",
    "this property."
   ]
  },
  {
   "cell_type": "markdown",
   "id": "2029156e-62da-4d10-87aa-78ab5de0e879",
   "metadata": {},
   "source": [
    "Mutuable : An object that allows you to change the values without changing its identity is a mutuable object"
   ]
  },
  {
   "cell_type": "markdown",
   "id": "ea1bc2a1-f1e6-40dd-bfb0-8cb56e9fa00e",
   "metadata": {},
   "source": [
    "Immutuable : if you can't change the object's state after you've created it"
   ]
  }
 ],
 "metadata": {
  "kernelspec": {
   "display_name": "Python 3 (ipykernel)",
   "language": "python",
   "name": "python3"
  },
  "language_info": {
   "codemirror_mode": {
    "name": "ipython",
    "version": 3
   },
   "file_extension": ".py",
   "mimetype": "text/x-python",
   "name": "python",
   "nbconvert_exporter": "python",
   "pygments_lexer": "ipython3",
   "version": "3.10.8"
  }
 },
 "nbformat": 4,
 "nbformat_minor": 5
}
